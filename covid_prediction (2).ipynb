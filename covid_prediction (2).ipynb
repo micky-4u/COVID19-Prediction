{
  "cells": [
    {
      "cell_type": "code",
      "execution_count": 53,
      "metadata": {
        "id": "5412750c"
      },
      "outputs": [],
      "source": [
        "# importing models \n",
        "\n",
        "import pandas as pd\n",
        "import matplotlib.pyplot as plt\n",
        "import seaborn as sns\n",
        "from sklearn.linear_model import LogisticRegression\n",
        "from sklearn.neighbors import KNeighborsClassifier\n",
        "from sklearn.tree import DecisionTreeClassifier\n",
        "import io\n",
        "import seaborn as sns\n",
        "from sklearn.model_selection import train_test_split\n",
        "from sklearn.metrics import accuracy_score"
      ],
      "id": "5412750c"
    },
    {
      "cell_type": "code",
      "execution_count": null,
      "metadata": {
        "colab": {
          "base_uri": "https://localhost:8080/",
          "height": 73,
          "resources": {
            "http://localhost:8080/nbextensions/google.colab/files.js": {
              "data": "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",
              "headers": [
                [
                  "content-type",
                  "application/javascript"
                ]
              ],
              "ok": true,
              "status": 200,
              "status_text": ""
            }
          }
        },
        "id": "0da86720",
        "outputId": "a581aaba-6ea2-4aae-fb74-cda2b075151a"
      },
      "outputs": [
        {
          "output_type": "display_data",
          "data": {
            "text/plain": [
              "<IPython.core.display.HTML object>"
            ],
            "text/html": [
              "\n",
              "     <input type=\"file\" id=\"files-7eb6871e-0bdc-4675-b497-54e7463be605\" name=\"files[]\" multiple disabled\n",
              "        style=\"border:none\" />\n",
              "     <output id=\"result-7eb6871e-0bdc-4675-b497-54e7463be605\">\n",
              "      Upload widget is only available when the cell has been executed in the\n",
              "      current browser session. Please rerun this cell to enable.\n",
              "      </output>\n",
              "      <script src=\"/nbextensions/google.colab/files.js\"></script> "
            ]
          },
          "metadata": {}
        },
        {
          "output_type": "stream",
          "name": "stdout",
          "text": [
            "Saving covid.csv to covid.csv\n"
          ]
        }
      ],
      "source": [
        "from google.colab import files\n",
        "uploaded = files.upload()"
      ],
      "id": "0da86720"
    },
    {
      "cell_type": "code",
      "execution_count": 62,
      "metadata": {
        "id": "797b67f4"
      },
      "outputs": [],
      "source": [
        "df = pd.read_csv(io.BytesIO(uploaded['covid.csv']))"
      ],
      "id": "797b67f4"
    },
    {
      "cell_type": "code",
      "execution_count": null,
      "metadata": {
        "id": "d291e6a5",
        "colab": {
          "base_uri": "https://localhost:8080/"
        },
        "outputId": "aca2ea00-6458-44ab-a1f1-ac6566476cda"
      },
      "outputs": [
        {
          "output_type": "execute_result",
          "data": {
            "text/plain": [
              "Date             2017\n",
              "ID               2017\n",
              "y                2017\n",
              "Age              2017\n",
              "Sex              2017\n",
              "Hematocrit       2017\n",
              "Hemoglobin       2017\n",
              "RedBloodCells    2017\n",
              "Leukocytes       2017\n",
              "Platelets        2017\n",
              "MPV              2017\n",
              "MCV              2017\n",
              "MCHC             2017\n",
              "MCH              2017\n",
              "RDW              2017\n",
              "Monocytes        2017\n",
              "Monocytes%       2017\n",
              "Lymphocytes      2017\n",
              "Lymphocytes%     2017\n",
              "Eosinophils      2017\n",
              "Eosinophils%     2017\n",
              "Basophils        2017\n",
              "Basophils%       2017\n",
              "Neutrophils      2017\n",
              "Neutrophils%     2017\n",
              "dtype: int64"
            ]
          },
          "metadata": {},
          "execution_count": 11
        }
      ],
      "source": [
        "df.loc[df[\"y\"] == 1].count()"
      ],
      "id": "d291e6a5"
    },
    {
      "cell_type": "code",
      "execution_count": null,
      "metadata": {
        "id": "3f2bcb82",
        "colab": {
          "base_uri": "https://localhost:8080/"
        },
        "outputId": "12d48511-2498-40a7-a487-d5156d76df15"
      },
      "outputs": [
        {
          "output_type": "stream",
          "name": "stdout",
          "text": [
            "<class 'pandas.core.frame.DataFrame'>\n",
            "RangeIndex: 14681 entries, 0 to 14680\n",
            "Data columns (total 25 columns):\n",
            " #   Column         Non-Null Count  Dtype  \n",
            "---  ------         --------------  -----  \n",
            " 0   Date           14681 non-null  object \n",
            " 1   ID             14681 non-null  object \n",
            " 2   y              14681 non-null  int64  \n",
            " 3   Age            14681 non-null  float64\n",
            " 4   Sex            14681 non-null  object \n",
            " 5   Hematocrit     14681 non-null  float64\n",
            " 6   Hemoglobin     14681 non-null  float64\n",
            " 7   RedBloodCells  14681 non-null  float64\n",
            " 8   Leukocytes     14681 non-null  float64\n",
            " 9   Platelets      14681 non-null  int64  \n",
            " 10  MPV            14681 non-null  float64\n",
            " 11  MCV            14681 non-null  float64\n",
            " 12  MCHC           14681 non-null  float64\n",
            " 13  MCH            14681 non-null  float64\n",
            " 14  RDW            14681 non-null  float64\n",
            " 15  Monocytes      14681 non-null  int64  \n",
            " 16  Monocytes%     14681 non-null  float64\n",
            " 17  Lymphocytes    14681 non-null  int64  \n",
            " 18  Lymphocytes%   14681 non-null  float64\n",
            " 19  Eosinophils    14681 non-null  int64  \n",
            " 20  Eosinophils%   14681 non-null  float64\n",
            " 21  Basophils      14681 non-null  int64  \n",
            " 22  Basophils%     14681 non-null  float64\n",
            " 23  Neutrophils    14681 non-null  int64  \n",
            " 24  Neutrophils%   14681 non-null  float64\n",
            "dtypes: float64(15), int64(7), object(3)\n",
            "memory usage: 2.8+ MB\n"
          ]
        }
      ],
      "source": [
        "df.info()"
      ],
      "id": "3f2bcb82"
    },
    {
      "cell_type": "code",
      "execution_count": null,
      "metadata": {
        "colab": {
          "base_uri": "https://localhost:8080/"
        },
        "id": "50c4bb73",
        "outputId": "6e97f882-3050-44da-85f0-6d5a3c464bcc"
      },
      "outputs": [
        {
          "output_type": "execute_result",
          "data": {
            "text/plain": [
              "Date             0\n",
              "ID               0\n",
              "y                0\n",
              "Age              0\n",
              "Sex              0\n",
              "Hematocrit       0\n",
              "Hemoglobin       0\n",
              "RedBloodCells    0\n",
              "Leukocytes       0\n",
              "Platelets        0\n",
              "MPV              0\n",
              "MCV              0\n",
              "MCHC             0\n",
              "MCH              0\n",
              "RDW              0\n",
              "Monocytes        0\n",
              "Monocytes%       0\n",
              "Lymphocytes      0\n",
              "Lymphocytes%     0\n",
              "Eosinophils      0\n",
              "Eosinophils%     0\n",
              "Basophils        0\n",
              "Basophils%       0\n",
              "Neutrophils      0\n",
              "Neutrophils%     0\n",
              "dtype: int64"
            ]
          },
          "metadata": {},
          "execution_count": 6
        }
      ],
      "source": [
        "# Checking for missing values\n",
        "df.isnull().sum()"
      ],
      "id": "50c4bb73"
    },
    {
      "cell_type": "code",
      "execution_count": null,
      "metadata": {
        "colab": {
          "base_uri": "https://localhost:8080/",
          "height": 833
        },
        "id": "d3b7d4ff",
        "outputId": "74ffbd42-129b-4529-db4d-90610f8f95bb"
      },
      "outputs": [
        {
          "output_type": "execute_result",
          "data": {
            "text/plain": [
              "                      y       Age  Hematocrit  Hemoglobin  RedBloodCells  \\\n",
              "y              1.000000  0.128753    0.013017    0.020018       0.015154   \n",
              "Age            0.128753  1.000000   -0.009018   -0.054699      -0.146082   \n",
              "Hematocrit     0.013017 -0.009018    1.000000    0.969179       0.889498   \n",
              "Hemoglobin     0.020018 -0.054699    0.969179    1.000000       0.859342   \n",
              "RedBloodCells  0.015154 -0.146082    0.889498    0.859342       1.000000   \n",
              "Leukocytes    -0.189484 -0.049904   -0.020421   -0.019387       0.008780   \n",
              "Platelets     -0.129468 -0.153547   -0.089032   -0.122149      -0.020830   \n",
              "MPV           -0.003978  0.059247    0.015375   -0.014744      -0.013974   \n",
              "MCV           -0.008086  0.317125   -0.012411   -0.009040      -0.459318   \n",
              "MCHC           0.031380 -0.192036    0.155252    0.391232       0.122487   \n",
              "MCH            0.007447  0.190836    0.059127    0.171809      -0.346936   \n",
              "RDW            0.002553  0.279893   -0.275521   -0.361848      -0.164120   \n",
              "Monocytes     -0.031170  0.014724    0.035138    0.034967       0.042455   \n",
              "Monocytes%     0.224350  0.087299    0.058590    0.060314       0.033023   \n",
              "Lymphocytes   -0.190240 -0.202922    0.049445    0.043478       0.084485   \n",
              "Lymphocytes%  -0.094484 -0.232863    0.075737    0.070193       0.095860   \n",
              "Eosinophils   -0.197497 -0.057400    0.055699    0.046458       0.063475   \n",
              "Eosinophils%  -0.180437 -0.039369    0.055742    0.046036       0.052759   \n",
              "Basophils     -0.271745  0.017831    0.130399    0.105700       0.118405   \n",
              "Basophils%    -0.190538  0.041597    0.108845    0.087325       0.080512   \n",
              "Neutrophils   -0.109676  0.037921   -0.053412   -0.048313      -0.037059   \n",
              "Neutrophils%   0.070666  0.191242   -0.093187   -0.085815      -0.103487   \n",
              "\n",
              "               Leukocytes  Platelets       MPV       MCV      MCHC  ...  \\\n",
              "y               -0.189484  -0.129468 -0.003978 -0.008086  0.031380  ...   \n",
              "Age             -0.049904  -0.153547  0.059247  0.317125 -0.192036  ...   \n",
              "Hematocrit      -0.020421  -0.089032  0.015375 -0.012411  0.155252  ...   \n",
              "Hemoglobin      -0.019387  -0.122149 -0.014744 -0.009040  0.391232  ...   \n",
              "RedBloodCells    0.008780  -0.020830 -0.013974 -0.459318  0.122487  ...   \n",
              "Leukocytes       1.000000   0.262542 -0.075164 -0.057765 -0.001501  ...   \n",
              "Platelets        0.262542   1.000000 -0.306562 -0.133976 -0.160211  ...   \n",
              "MPV             -0.075164  -0.306562  1.000000  0.063821 -0.114512  ...   \n",
              "MCV             -0.057765  -0.133976  0.063821  1.000000  0.020734  ...   \n",
              "MCHC            -0.001501  -0.160211 -0.114512  0.020734  1.000000  ...   \n",
              "MCH             -0.052462  -0.191525  0.002407  0.885178  0.481661  ...   \n",
              "RDW              0.076081   0.014077  0.045758 -0.136682 -0.444929  ...   \n",
              "Monocytes        0.599705   0.157607 -0.073574 -0.022875  0.006666  ...   \n",
              "Monocytes%      -0.283676  -0.124203 -0.016905  0.044927  0.021353  ...   \n",
              "Lymphocytes      0.385119   0.245474 -0.008803 -0.093946 -0.007177  ...   \n",
              "Lymphocytes%    -0.388278   0.095442  0.059475 -0.069903  0.003491  ...   \n",
              "Eosinophils      0.110517   0.175748 -0.008355 -0.029853 -0.024479  ...   \n",
              "Eosinophils%    -0.133177   0.093232  0.018938 -0.006709 -0.026978  ...   \n",
              "Basophils        0.197784   0.300720  0.035808 -0.003269 -0.064085  ...   \n",
              "Basophils%      -0.269722   0.140618  0.076917  0.037608 -0.057357  ...   \n",
              "Neutrophils      0.892058   0.158512 -0.075802 -0.019523  0.004583  ...   \n",
              "Neutrophils%     0.438761  -0.075871 -0.056557  0.050911  0.000491  ...   \n",
              "\n",
              "               Monocytes  Monocytes%  Lymphocytes  Lymphocytes%  Eosinophils  \\\n",
              "y              -0.031170    0.224350    -0.190240     -0.094484    -0.197497   \n",
              "Age             0.014724    0.087299    -0.202922     -0.232863    -0.057400   \n",
              "Hematocrit      0.035138    0.058590     0.049445      0.075737     0.055699   \n",
              "Hemoglobin      0.034967    0.060314     0.043478      0.070193     0.046458   \n",
              "RedBloodCells   0.042455    0.033023     0.084485      0.095860     0.063475   \n",
              "Leukocytes      0.599705   -0.283676     0.385119     -0.388278     0.110517   \n",
              "Platelets       0.157607   -0.124203     0.245474      0.095442     0.175748   \n",
              "MPV            -0.073574   -0.016905    -0.008803      0.059475    -0.008355   \n",
              "MCV            -0.022875    0.044927    -0.093946     -0.069903    -0.029853   \n",
              "MCHC            0.006666    0.021353    -0.007177      0.003491    -0.024479   \n",
              "MCH            -0.017750    0.049557    -0.086909     -0.060067    -0.037951   \n",
              "RDW             0.111286    0.065830    -0.070497     -0.157499    -0.012121   \n",
              "Monocytes       1.000000    0.513736     0.227061     -0.247786     0.105598   \n",
              "Monocytes%      0.513736    1.000000    -0.110641      0.069583    -0.036117   \n",
              "Lymphocytes     0.227061   -0.110641     1.000000      0.556588     0.230131   \n",
              "Lymphocytes%   -0.247786    0.069583     0.556588      1.000000     0.153725   \n",
              "Eosinophils     0.105598   -0.036117     0.230131      0.153725     1.000000   \n",
              "Eosinophils%   -0.059763    0.027322     0.136879      0.257681     0.917006   \n",
              "Basophils       0.164490   -0.056387     0.292405      0.166302     0.417508   \n",
              "Basophils%     -0.140351    0.085649     0.103083      0.350078     0.300880   \n",
              "Neutrophils     0.466182   -0.325242    -0.056126     -0.681188    -0.065580   \n",
              "Neutrophils%    0.112163   -0.302517    -0.492250     -0.953031    -0.301619   \n",
              "\n",
              "               Eosinophils%  Basophils  Basophils%  Neutrophils  Neutrophils%  \n",
              "y                 -0.180437  -0.271745   -0.190538    -0.109676      0.070666  \n",
              "Age               -0.039369   0.017831    0.041597     0.037921      0.191242  \n",
              "Hematocrit         0.055742   0.130399    0.108845    -0.053412     -0.093187  \n",
              "Hemoglobin         0.046036   0.105700    0.087325    -0.048313     -0.085815  \n",
              "RedBloodCells      0.052759   0.118405    0.080512    -0.037059     -0.103487  \n",
              "Leukocytes        -0.133177   0.197784   -0.269722     0.892058      0.438761  \n",
              "Platelets          0.093232   0.300720    0.140618     0.158512     -0.075871  \n",
              "MPV                0.018938   0.035808    0.076917    -0.075802     -0.056557  \n",
              "MCV               -0.006709  -0.003269    0.037608    -0.019523      0.050911  \n",
              "MCHC              -0.026978  -0.064085   -0.057357     0.004583      0.000491  \n",
              "MCH               -0.018517  -0.032145    0.007368    -0.015622      0.045146  \n",
              "RDW               -0.036430   0.003135   -0.031071     0.103546      0.128807  \n",
              "Monocytes         -0.059763   0.164490   -0.140351     0.466182      0.112163  \n",
              "Monocytes%         0.027322  -0.056387    0.085649    -0.325242     -0.302517  \n",
              "Lymphocytes        0.136879   0.292405    0.103083    -0.056126     -0.492250  \n",
              "Lymphocytes%       0.257681   0.166302    0.350078    -0.681188     -0.953031  \n",
              "Eosinophils        0.917006   0.417508    0.300880    -0.065580     -0.301619  \n",
              "Eosinophils%       1.000000   0.359607    0.405315    -0.277368     -0.425749  \n",
              "Basophils          0.359607   1.000000    0.820557     0.037103     -0.221096  \n",
              "Basophils%         0.405315   0.820557    1.000000    -0.369104     -0.428978  \n",
              "Neutrophils       -0.277368   0.037103   -0.369104     1.000000      0.736511  \n",
              "Neutrophils%      -0.425749  -0.221096   -0.428978     0.736511      1.000000  \n",
              "\n",
              "[22 rows x 22 columns]"
            ],
            "text/html": [
              "\n",
              "  <div id=\"df-b9742e97-d49b-4bdb-939d-105a67c67451\">\n",
              "    <div class=\"colab-df-container\">\n",
              "      <div>\n",
              "<style scoped>\n",
              "    .dataframe tbody tr th:only-of-type {\n",
              "        vertical-align: middle;\n",
              "    }\n",
              "\n",
              "    .dataframe tbody tr th {\n",
              "        vertical-align: top;\n",
              "    }\n",
              "\n",
              "    .dataframe thead th {\n",
              "        text-align: right;\n",
              "    }\n",
              "</style>\n",
              "<table border=\"1\" class=\"dataframe\">\n",
              "  <thead>\n",
              "    <tr style=\"text-align: right;\">\n",
              "      <th></th>\n",
              "      <th>y</th>\n",
              "      <th>Age</th>\n",
              "      <th>Hematocrit</th>\n",
              "      <th>Hemoglobin</th>\n",
              "      <th>RedBloodCells</th>\n",
              "      <th>Leukocytes</th>\n",
              "      <th>Platelets</th>\n",
              "      <th>MPV</th>\n",
              "      <th>MCV</th>\n",
              "      <th>MCHC</th>\n",
              "      <th>...</th>\n",
              "      <th>Monocytes</th>\n",
              "      <th>Monocytes%</th>\n",
              "      <th>Lymphocytes</th>\n",
              "      <th>Lymphocytes%</th>\n",
              "      <th>Eosinophils</th>\n",
              "      <th>Eosinophils%</th>\n",
              "      <th>Basophils</th>\n",
              "      <th>Basophils%</th>\n",
              "      <th>Neutrophils</th>\n",
              "      <th>Neutrophils%</th>\n",
              "    </tr>\n",
              "  </thead>\n",
              "  <tbody>\n",
              "    <tr>\n",
              "      <th>y</th>\n",
              "      <td>1.000000</td>\n",
              "      <td>0.128753</td>\n",
              "      <td>0.013017</td>\n",
              "      <td>0.020018</td>\n",
              "      <td>0.015154</td>\n",
              "      <td>-0.189484</td>\n",
              "      <td>-0.129468</td>\n",
              "      <td>-0.003978</td>\n",
              "      <td>-0.008086</td>\n",
              "      <td>0.031380</td>\n",
              "      <td>...</td>\n",
              "      <td>-0.031170</td>\n",
              "      <td>0.224350</td>\n",
              "      <td>-0.190240</td>\n",
              "      <td>-0.094484</td>\n",
              "      <td>-0.197497</td>\n",
              "      <td>-0.180437</td>\n",
              "      <td>-0.271745</td>\n",
              "      <td>-0.190538</td>\n",
              "      <td>-0.109676</td>\n",
              "      <td>0.070666</td>\n",
              "    </tr>\n",
              "    <tr>\n",
              "      <th>Age</th>\n",
              "      <td>0.128753</td>\n",
              "      <td>1.000000</td>\n",
              "      <td>-0.009018</td>\n",
              "      <td>-0.054699</td>\n",
              "      <td>-0.146082</td>\n",
              "      <td>-0.049904</td>\n",
              "      <td>-0.153547</td>\n",
              "      <td>0.059247</td>\n",
              "      <td>0.317125</td>\n",
              "      <td>-0.192036</td>\n",
              "      <td>...</td>\n",
              "      <td>0.014724</td>\n",
              "      <td>0.087299</td>\n",
              "      <td>-0.202922</td>\n",
              "      <td>-0.232863</td>\n",
              "      <td>-0.057400</td>\n",
              "      <td>-0.039369</td>\n",
              "      <td>0.017831</td>\n",
              "      <td>0.041597</td>\n",
              "      <td>0.037921</td>\n",
              "      <td>0.191242</td>\n",
              "    </tr>\n",
              "    <tr>\n",
              "      <th>Hematocrit</th>\n",
              "      <td>0.013017</td>\n",
              "      <td>-0.009018</td>\n",
              "      <td>1.000000</td>\n",
              "      <td>0.969179</td>\n",
              "      <td>0.889498</td>\n",
              "      <td>-0.020421</td>\n",
              "      <td>-0.089032</td>\n",
              "      <td>0.015375</td>\n",
              "      <td>-0.012411</td>\n",
              "      <td>0.155252</td>\n",
              "      <td>...</td>\n",
              "      <td>0.035138</td>\n",
              "      <td>0.058590</td>\n",
              "      <td>0.049445</td>\n",
              "      <td>0.075737</td>\n",
              "      <td>0.055699</td>\n",
              "      <td>0.055742</td>\n",
              "      <td>0.130399</td>\n",
              "      <td>0.108845</td>\n",
              "      <td>-0.053412</td>\n",
              "      <td>-0.093187</td>\n",
              "    </tr>\n",
              "    <tr>\n",
              "      <th>Hemoglobin</th>\n",
              "      <td>0.020018</td>\n",
              "      <td>-0.054699</td>\n",
              "      <td>0.969179</td>\n",
              "      <td>1.000000</td>\n",
              "      <td>0.859342</td>\n",
              "      <td>-0.019387</td>\n",
              "      <td>-0.122149</td>\n",
              "      <td>-0.014744</td>\n",
              "      <td>-0.009040</td>\n",
              "      <td>0.391232</td>\n",
              "      <td>...</td>\n",
              "      <td>0.034967</td>\n",
              "      <td>0.060314</td>\n",
              "      <td>0.043478</td>\n",
              "      <td>0.070193</td>\n",
              "      <td>0.046458</td>\n",
              "      <td>0.046036</td>\n",
              "      <td>0.105700</td>\n",
              "      <td>0.087325</td>\n",
              "      <td>-0.048313</td>\n",
              "      <td>-0.085815</td>\n",
              "    </tr>\n",
              "    <tr>\n",
              "      <th>RedBloodCells</th>\n",
              "      <td>0.015154</td>\n",
              "      <td>-0.146082</td>\n",
              "      <td>0.889498</td>\n",
              "      <td>0.859342</td>\n",
              "      <td>1.000000</td>\n",
              "      <td>0.008780</td>\n",
              "      <td>-0.020830</td>\n",
              "      <td>-0.013974</td>\n",
              "      <td>-0.459318</td>\n",
              "      <td>0.122487</td>\n",
              "      <td>...</td>\n",
              "      <td>0.042455</td>\n",
              "      <td>0.033023</td>\n",
              "      <td>0.084485</td>\n",
              "      <td>0.095860</td>\n",
              "      <td>0.063475</td>\n",
              "      <td>0.052759</td>\n",
              "      <td>0.118405</td>\n",
              "      <td>0.080512</td>\n",
              "      <td>-0.037059</td>\n",
              "      <td>-0.103487</td>\n",
              "    </tr>\n",
              "    <tr>\n",
              "      <th>Leukocytes</th>\n",
              "      <td>-0.189484</td>\n",
              "      <td>-0.049904</td>\n",
              "      <td>-0.020421</td>\n",
              "      <td>-0.019387</td>\n",
              "      <td>0.008780</td>\n",
              "      <td>1.000000</td>\n",
              "      <td>0.262542</td>\n",
              "      <td>-0.075164</td>\n",
              "      <td>-0.057765</td>\n",
              "      <td>-0.001501</td>\n",
              "      <td>...</td>\n",
              "      <td>0.599705</td>\n",
              "      <td>-0.283676</td>\n",
              "      <td>0.385119</td>\n",
              "      <td>-0.388278</td>\n",
              "      <td>0.110517</td>\n",
              "      <td>-0.133177</td>\n",
              "      <td>0.197784</td>\n",
              "      <td>-0.269722</td>\n",
              "      <td>0.892058</td>\n",
              "      <td>0.438761</td>\n",
              "    </tr>\n",
              "    <tr>\n",
              "      <th>Platelets</th>\n",
              "      <td>-0.129468</td>\n",
              "      <td>-0.153547</td>\n",
              "      <td>-0.089032</td>\n",
              "      <td>-0.122149</td>\n",
              "      <td>-0.020830</td>\n",
              "      <td>0.262542</td>\n",
              "      <td>1.000000</td>\n",
              "      <td>-0.306562</td>\n",
              "      <td>-0.133976</td>\n",
              "      <td>-0.160211</td>\n",
              "      <td>...</td>\n",
              "      <td>0.157607</td>\n",
              "      <td>-0.124203</td>\n",
              "      <td>0.245474</td>\n",
              "      <td>0.095442</td>\n",
              "      <td>0.175748</td>\n",
              "      <td>0.093232</td>\n",
              "      <td>0.300720</td>\n",
              "      <td>0.140618</td>\n",
              "      <td>0.158512</td>\n",
              "      <td>-0.075871</td>\n",
              "    </tr>\n",
              "    <tr>\n",
              "      <th>MPV</th>\n",
              "      <td>-0.003978</td>\n",
              "      <td>0.059247</td>\n",
              "      <td>0.015375</td>\n",
              "      <td>-0.014744</td>\n",
              "      <td>-0.013974</td>\n",
              "      <td>-0.075164</td>\n",
              "      <td>-0.306562</td>\n",
              "      <td>1.000000</td>\n",
              "      <td>0.063821</td>\n",
              "      <td>-0.114512</td>\n",
              "      <td>...</td>\n",
              "      <td>-0.073574</td>\n",
              "      <td>-0.016905</td>\n",
              "      <td>-0.008803</td>\n",
              "      <td>0.059475</td>\n",
              "      <td>-0.008355</td>\n",
              "      <td>0.018938</td>\n",
              "      <td>0.035808</td>\n",
              "      <td>0.076917</td>\n",
              "      <td>-0.075802</td>\n",
              "      <td>-0.056557</td>\n",
              "    </tr>\n",
              "    <tr>\n",
              "      <th>MCV</th>\n",
              "      <td>-0.008086</td>\n",
              "      <td>0.317125</td>\n",
              "      <td>-0.012411</td>\n",
              "      <td>-0.009040</td>\n",
              "      <td>-0.459318</td>\n",
              "      <td>-0.057765</td>\n",
              "      <td>-0.133976</td>\n",
              "      <td>0.063821</td>\n",
              "      <td>1.000000</td>\n",
              "      <td>0.020734</td>\n",
              "      <td>...</td>\n",
              "      <td>-0.022875</td>\n",
              "      <td>0.044927</td>\n",
              "      <td>-0.093946</td>\n",
              "      <td>-0.069903</td>\n",
              "      <td>-0.029853</td>\n",
              "      <td>-0.006709</td>\n",
              "      <td>-0.003269</td>\n",
              "      <td>0.037608</td>\n",
              "      <td>-0.019523</td>\n",
              "      <td>0.050911</td>\n",
              "    </tr>\n",
              "    <tr>\n",
              "      <th>MCHC</th>\n",
              "      <td>0.031380</td>\n",
              "      <td>-0.192036</td>\n",
              "      <td>0.155252</td>\n",
              "      <td>0.391232</td>\n",
              "      <td>0.122487</td>\n",
              "      <td>-0.001501</td>\n",
              "      <td>-0.160211</td>\n",
              "      <td>-0.114512</td>\n",
              "      <td>0.020734</td>\n",
              "      <td>1.000000</td>\n",
              "      <td>...</td>\n",
              "      <td>0.006666</td>\n",
              "      <td>0.021353</td>\n",
              "      <td>-0.007177</td>\n",
              "      <td>0.003491</td>\n",
              "      <td>-0.024479</td>\n",
              "      <td>-0.026978</td>\n",
              "      <td>-0.064085</td>\n",
              "      <td>-0.057357</td>\n",
              "      <td>0.004583</td>\n",
              "      <td>0.000491</td>\n",
              "    </tr>\n",
              "    <tr>\n",
              "      <th>MCH</th>\n",
              "      <td>0.007447</td>\n",
              "      <td>0.190836</td>\n",
              "      <td>0.059127</td>\n",
              "      <td>0.171809</td>\n",
              "      <td>-0.346936</td>\n",
              "      <td>-0.052462</td>\n",
              "      <td>-0.191525</td>\n",
              "      <td>0.002407</td>\n",
              "      <td>0.885178</td>\n",
              "      <td>0.481661</td>\n",
              "      <td>...</td>\n",
              "      <td>-0.017750</td>\n",
              "      <td>0.049557</td>\n",
              "      <td>-0.086909</td>\n",
              "      <td>-0.060067</td>\n",
              "      <td>-0.037951</td>\n",
              "      <td>-0.018517</td>\n",
              "      <td>-0.032145</td>\n",
              "      <td>0.007368</td>\n",
              "      <td>-0.015622</td>\n",
              "      <td>0.045146</td>\n",
              "    </tr>\n",
              "    <tr>\n",
              "      <th>RDW</th>\n",
              "      <td>0.002553</td>\n",
              "      <td>0.279893</td>\n",
              "      <td>-0.275521</td>\n",
              "      <td>-0.361848</td>\n",
              "      <td>-0.164120</td>\n",
              "      <td>0.076081</td>\n",
              "      <td>0.014077</td>\n",
              "      <td>0.045758</td>\n",
              "      <td>-0.136682</td>\n",
              "      <td>-0.444929</td>\n",
              "      <td>...</td>\n",
              "      <td>0.111286</td>\n",
              "      <td>0.065830</td>\n",
              "      <td>-0.070497</td>\n",
              "      <td>-0.157499</td>\n",
              "      <td>-0.012121</td>\n",
              "      <td>-0.036430</td>\n",
              "      <td>0.003135</td>\n",
              "      <td>-0.031071</td>\n",
              "      <td>0.103546</td>\n",
              "      <td>0.128807</td>\n",
              "    </tr>\n",
              "    <tr>\n",
              "      <th>Monocytes</th>\n",
              "      <td>-0.031170</td>\n",
              "      <td>0.014724</td>\n",
              "      <td>0.035138</td>\n",
              "      <td>0.034967</td>\n",
              "      <td>0.042455</td>\n",
              "      <td>0.599705</td>\n",
              "      <td>0.157607</td>\n",
              "      <td>-0.073574</td>\n",
              "      <td>-0.022875</td>\n",
              "      <td>0.006666</td>\n",
              "      <td>...</td>\n",
              "      <td>1.000000</td>\n",
              "      <td>0.513736</td>\n",
              "      <td>0.227061</td>\n",
              "      <td>-0.247786</td>\n",
              "      <td>0.105598</td>\n",
              "      <td>-0.059763</td>\n",
              "      <td>0.164490</td>\n",
              "      <td>-0.140351</td>\n",
              "      <td>0.466182</td>\n",
              "      <td>0.112163</td>\n",
              "    </tr>\n",
              "    <tr>\n",
              "      <th>Monocytes%</th>\n",
              "      <td>0.224350</td>\n",
              "      <td>0.087299</td>\n",
              "      <td>0.058590</td>\n",
              "      <td>0.060314</td>\n",
              "      <td>0.033023</td>\n",
              "      <td>-0.283676</td>\n",
              "      <td>-0.124203</td>\n",
              "      <td>-0.016905</td>\n",
              "      <td>0.044927</td>\n",
              "      <td>0.021353</td>\n",
              "      <td>...</td>\n",
              "      <td>0.513736</td>\n",
              "      <td>1.000000</td>\n",
              "      <td>-0.110641</td>\n",
              "      <td>0.069583</td>\n",
              "      <td>-0.036117</td>\n",
              "      <td>0.027322</td>\n",
              "      <td>-0.056387</td>\n",
              "      <td>0.085649</td>\n",
              "      <td>-0.325242</td>\n",
              "      <td>-0.302517</td>\n",
              "    </tr>\n",
              "    <tr>\n",
              "      <th>Lymphocytes</th>\n",
              "      <td>-0.190240</td>\n",
              "      <td>-0.202922</td>\n",
              "      <td>0.049445</td>\n",
              "      <td>0.043478</td>\n",
              "      <td>0.084485</td>\n",
              "      <td>0.385119</td>\n",
              "      <td>0.245474</td>\n",
              "      <td>-0.008803</td>\n",
              "      <td>-0.093946</td>\n",
              "      <td>-0.007177</td>\n",
              "      <td>...</td>\n",
              "      <td>0.227061</td>\n",
              "      <td>-0.110641</td>\n",
              "      <td>1.000000</td>\n",
              "      <td>0.556588</td>\n",
              "      <td>0.230131</td>\n",
              "      <td>0.136879</td>\n",
              "      <td>0.292405</td>\n",
              "      <td>0.103083</td>\n",
              "      <td>-0.056126</td>\n",
              "      <td>-0.492250</td>\n",
              "    </tr>\n",
              "    <tr>\n",
              "      <th>Lymphocytes%</th>\n",
              "      <td>-0.094484</td>\n",
              "      <td>-0.232863</td>\n",
              "      <td>0.075737</td>\n",
              "      <td>0.070193</td>\n",
              "      <td>0.095860</td>\n",
              "      <td>-0.388278</td>\n",
              "      <td>0.095442</td>\n",
              "      <td>0.059475</td>\n",
              "      <td>-0.069903</td>\n",
              "      <td>0.003491</td>\n",
              "      <td>...</td>\n",
              "      <td>-0.247786</td>\n",
              "      <td>0.069583</td>\n",
              "      <td>0.556588</td>\n",
              "      <td>1.000000</td>\n",
              "      <td>0.153725</td>\n",
              "      <td>0.257681</td>\n",
              "      <td>0.166302</td>\n",
              "      <td>0.350078</td>\n",
              "      <td>-0.681188</td>\n",
              "      <td>-0.953031</td>\n",
              "    </tr>\n",
              "    <tr>\n",
              "      <th>Eosinophils</th>\n",
              "      <td>-0.197497</td>\n",
              "      <td>-0.057400</td>\n",
              "      <td>0.055699</td>\n",
              "      <td>0.046458</td>\n",
              "      <td>0.063475</td>\n",
              "      <td>0.110517</td>\n",
              "      <td>0.175748</td>\n",
              "      <td>-0.008355</td>\n",
              "      <td>-0.029853</td>\n",
              "      <td>-0.024479</td>\n",
              "      <td>...</td>\n",
              "      <td>0.105598</td>\n",
              "      <td>-0.036117</td>\n",
              "      <td>0.230131</td>\n",
              "      <td>0.153725</td>\n",
              "      <td>1.000000</td>\n",
              "      <td>0.917006</td>\n",
              "      <td>0.417508</td>\n",
              "      <td>0.300880</td>\n",
              "      <td>-0.065580</td>\n",
              "      <td>-0.301619</td>\n",
              "    </tr>\n",
              "    <tr>\n",
              "      <th>Eosinophils%</th>\n",
              "      <td>-0.180437</td>\n",
              "      <td>-0.039369</td>\n",
              "      <td>0.055742</td>\n",
              "      <td>0.046036</td>\n",
              "      <td>0.052759</td>\n",
              "      <td>-0.133177</td>\n",
              "      <td>0.093232</td>\n",
              "      <td>0.018938</td>\n",
              "      <td>-0.006709</td>\n",
              "      <td>-0.026978</td>\n",
              "      <td>...</td>\n",
              "      <td>-0.059763</td>\n",
              "      <td>0.027322</td>\n",
              "      <td>0.136879</td>\n",
              "      <td>0.257681</td>\n",
              "      <td>0.917006</td>\n",
              "      <td>1.000000</td>\n",
              "      <td>0.359607</td>\n",
              "      <td>0.405315</td>\n",
              "      <td>-0.277368</td>\n",
              "      <td>-0.425749</td>\n",
              "    </tr>\n",
              "    <tr>\n",
              "      <th>Basophils</th>\n",
              "      <td>-0.271745</td>\n",
              "      <td>0.017831</td>\n",
              "      <td>0.130399</td>\n",
              "      <td>0.105700</td>\n",
              "      <td>0.118405</td>\n",
              "      <td>0.197784</td>\n",
              "      <td>0.300720</td>\n",
              "      <td>0.035808</td>\n",
              "      <td>-0.003269</td>\n",
              "      <td>-0.064085</td>\n",
              "      <td>...</td>\n",
              "      <td>0.164490</td>\n",
              "      <td>-0.056387</td>\n",
              "      <td>0.292405</td>\n",
              "      <td>0.166302</td>\n",
              "      <td>0.417508</td>\n",
              "      <td>0.359607</td>\n",
              "      <td>1.000000</td>\n",
              "      <td>0.820557</td>\n",
              "      <td>0.037103</td>\n",
              "      <td>-0.221096</td>\n",
              "    </tr>\n",
              "    <tr>\n",
              "      <th>Basophils%</th>\n",
              "      <td>-0.190538</td>\n",
              "      <td>0.041597</td>\n",
              "      <td>0.108845</td>\n",
              "      <td>0.087325</td>\n",
              "      <td>0.080512</td>\n",
              "      <td>-0.269722</td>\n",
              "      <td>0.140618</td>\n",
              "      <td>0.076917</td>\n",
              "      <td>0.037608</td>\n",
              "      <td>-0.057357</td>\n",
              "      <td>...</td>\n",
              "      <td>-0.140351</td>\n",
              "      <td>0.085649</td>\n",
              "      <td>0.103083</td>\n",
              "      <td>0.350078</td>\n",
              "      <td>0.300880</td>\n",
              "      <td>0.405315</td>\n",
              "      <td>0.820557</td>\n",
              "      <td>1.000000</td>\n",
              "      <td>-0.369104</td>\n",
              "      <td>-0.428978</td>\n",
              "    </tr>\n",
              "    <tr>\n",
              "      <th>Neutrophils</th>\n",
              "      <td>-0.109676</td>\n",
              "      <td>0.037921</td>\n",
              "      <td>-0.053412</td>\n",
              "      <td>-0.048313</td>\n",
              "      <td>-0.037059</td>\n",
              "      <td>0.892058</td>\n",
              "      <td>0.158512</td>\n",
              "      <td>-0.075802</td>\n",
              "      <td>-0.019523</td>\n",
              "      <td>0.004583</td>\n",
              "      <td>...</td>\n",
              "      <td>0.466182</td>\n",
              "      <td>-0.325242</td>\n",
              "      <td>-0.056126</td>\n",
              "      <td>-0.681188</td>\n",
              "      <td>-0.065580</td>\n",
              "      <td>-0.277368</td>\n",
              "      <td>0.037103</td>\n",
              "      <td>-0.369104</td>\n",
              "      <td>1.000000</td>\n",
              "      <td>0.736511</td>\n",
              "    </tr>\n",
              "    <tr>\n",
              "      <th>Neutrophils%</th>\n",
              "      <td>0.070666</td>\n",
              "      <td>0.191242</td>\n",
              "      <td>-0.093187</td>\n",
              "      <td>-0.085815</td>\n",
              "      <td>-0.103487</td>\n",
              "      <td>0.438761</td>\n",
              "      <td>-0.075871</td>\n",
              "      <td>-0.056557</td>\n",
              "      <td>0.050911</td>\n",
              "      <td>0.000491</td>\n",
              "      <td>...</td>\n",
              "      <td>0.112163</td>\n",
              "      <td>-0.302517</td>\n",
              "      <td>-0.492250</td>\n",
              "      <td>-0.953031</td>\n",
              "      <td>-0.301619</td>\n",
              "      <td>-0.425749</td>\n",
              "      <td>-0.221096</td>\n",
              "      <td>-0.428978</td>\n",
              "      <td>0.736511</td>\n",
              "      <td>1.000000</td>\n",
              "    </tr>\n",
              "  </tbody>\n",
              "</table>\n",
              "<p>22 rows × 22 columns</p>\n",
              "</div>\n",
              "      <button class=\"colab-df-convert\" onclick=\"convertToInteractive('df-b9742e97-d49b-4bdb-939d-105a67c67451')\"\n",
              "              title=\"Convert this dataframe to an interactive table.\"\n",
              "              style=\"display:none;\">\n",
              "        \n",
              "  <svg xmlns=\"http://www.w3.org/2000/svg\" height=\"24px\"viewBox=\"0 0 24 24\"\n",
              "       width=\"24px\">\n",
              "    <path d=\"M0 0h24v24H0V0z\" fill=\"none\"/>\n",
              "    <path d=\"M18.56 5.44l.94 2.06.94-2.06 2.06-.94-2.06-.94-.94-2.06-.94 2.06-2.06.94zm-11 1L8.5 8.5l.94-2.06 2.06-.94-2.06-.94L8.5 2.5l-.94 2.06-2.06.94zm10 10l.94 2.06.94-2.06 2.06-.94-2.06-.94-.94-2.06-.94 2.06-2.06.94z\"/><path d=\"M17.41 7.96l-1.37-1.37c-.4-.4-.92-.59-1.43-.59-.52 0-1.04.2-1.43.59L10.3 9.45l-7.72 7.72c-.78.78-.78 2.05 0 2.83L4 21.41c.39.39.9.59 1.41.59.51 0 1.02-.2 1.41-.59l7.78-7.78 2.81-2.81c.8-.78.8-2.07 0-2.86zM5.41 20L4 18.59l7.72-7.72 1.47 1.35L5.41 20z\"/>\n",
              "  </svg>\n",
              "      </button>\n",
              "      \n",
              "  <style>\n",
              "    .colab-df-container {\n",
              "      display:flex;\n",
              "      flex-wrap:wrap;\n",
              "      gap: 12px;\n",
              "    }\n",
              "\n",
              "    .colab-df-convert {\n",
              "      background-color: #E8F0FE;\n",
              "      border: none;\n",
              "      border-radius: 50%;\n",
              "      cursor: pointer;\n",
              "      display: none;\n",
              "      fill: #1967D2;\n",
              "      height: 32px;\n",
              "      padding: 0 0 0 0;\n",
              "      width: 32px;\n",
              "    }\n",
              "\n",
              "    .colab-df-convert:hover {\n",
              "      background-color: #E2EBFA;\n",
              "      box-shadow: 0px 1px 2px rgba(60, 64, 67, 0.3), 0px 1px 3px 1px rgba(60, 64, 67, 0.15);\n",
              "      fill: #174EA6;\n",
              "    }\n",
              "\n",
              "    [theme=dark] .colab-df-convert {\n",
              "      background-color: #3B4455;\n",
              "      fill: #D2E3FC;\n",
              "    }\n",
              "\n",
              "    [theme=dark] .colab-df-convert:hover {\n",
              "      background-color: #434B5C;\n",
              "      box-shadow: 0px 1px 3px 1px rgba(0, 0, 0, 0.15);\n",
              "      filter: drop-shadow(0px 1px 2px rgba(0, 0, 0, 0.3));\n",
              "      fill: #FFFFFF;\n",
              "    }\n",
              "  </style>\n",
              "\n",
              "      <script>\n",
              "        const buttonEl =\n",
              "          document.querySelector('#df-b9742e97-d49b-4bdb-939d-105a67c67451 button.colab-df-convert');\n",
              "        buttonEl.style.display =\n",
              "          google.colab.kernel.accessAllowed ? 'block' : 'none';\n",
              "\n",
              "        async function convertToInteractive(key) {\n",
              "          const element = document.querySelector('#df-b9742e97-d49b-4bdb-939d-105a67c67451');\n",
              "          const dataTable =\n",
              "            await google.colab.kernel.invokeFunction('convertToInteractive',\n",
              "                                                     [key], {});\n",
              "          if (!dataTable) return;\n",
              "\n",
              "          const docLinkHtml = 'Like what you see? Visit the ' +\n",
              "            '<a target=\"_blank\" href=https://colab.research.google.com/notebooks/data_table.ipynb>data table notebook</a>'\n",
              "            + ' to learn more about interactive tables.';\n",
              "          element.innerHTML = '';\n",
              "          dataTable['output_type'] = 'display_data';\n",
              "          await google.colab.output.renderOutput(dataTable, element);\n",
              "          const docLink = document.createElement('div');\n",
              "          docLink.innerHTML = docLinkHtml;\n",
              "          element.appendChild(docLink);\n",
              "        }\n",
              "      </script>\n",
              "    </div>\n",
              "  </div>\n",
              "  "
            ]
          },
          "metadata": {},
          "execution_count": 7
        }
      ],
      "source": [
        " \n",
        "\n",
        "df.isnull().sum()\n",
        "\n",
        "df.corr()"
      ],
      "id": "d3b7d4ff"
    },
    {
      "cell_type": "code",
      "execution_count": null,
      "metadata": {
        "colab": {
          "base_uri": "https://localhost:8080/",
          "height": 429
        },
        "id": "15ef3b25",
        "outputId": "bbb8f021-1574-4757-9506-c9fad9ace9ec"
      },
      "outputs": [
        {
          "data": {
            "text/plain": [
              "([<matplotlib.patches.Wedge at 0x7fe1349dc2d0>,\n",
              "  <matplotlib.patches.Wedge at 0x7fe1349dc050>],\n",
              " [Text(-0.23907613208412362, 1.6325877014934589, 'F'),\n",
              "  Text(0.23907613208412343, -1.6325877014934589, 'M')],\n",
              " [Text(-0.1304051629549765, 0.8905023826327956, '54.6%'),\n",
              "  Text(0.1304051629549764, -0.8905023826327956, '45.4%')])"
            ]
          },
          "execution_count": 60,
          "metadata": {},
          "output_type": "execute_result"
        },
        {
          "data": {
            "image/png": "[encoded data removed]",
            "text/plain": [
              "<Figure size 432x288 with 1 Axes>"
            ]
          },
          "metadata": {},
          "output_type": "display_data"
        }
      ],
      "source": [
        "# Spliting the dataset into train set and test set\n",
        "plt.pie(df['Sex'].value_counts(), labels=['F','M'], colors=['blue','yellow'], autopct='%1.1f%%', radius=1.5)\n"
      ],
      "id": "15ef3b25"
    },
    {
      "cell_type": "code",
      "source": [
        "plt.pie(df['y'].value_counts(), labels=['Positive','Negative'], colors=['blue','yellow'], autopct='%1.1f%%', radius=1.5)"
      ],
      "metadata": {
        "colab": {
          "base_uri": "https://localhost:8080/",
          "height": 397
        },
        "id": "KjwX-44g1EbW",
        "outputId": "acc9941b-b92d-4526-d95c-89039e855b1f"
      },
      "id": "KjwX-44g1EbW",
      "execution_count": null,
      "outputs": [
        {
          "output_type": "execute_result",
          "data": {
            "text/plain": [
              "([<matplotlib.patches.Wedge at 0x7f3dc3ee9950>,\n",
              "  <matplotlib.patches.Wedge at 0x7f3dc3ef91d0>],\n",
              " [Text(-1.4986781893834211, 0.6902634893042155, 'Positive'),\n",
              "  Text(1.4986781893834213, -0.690263489304215, 'Negative')],\n",
              " [Text(-0.817460830572775, 0.3765073578022993, '86.3%'),\n",
              "  Text(0.8174608305727751, -0.37650735780229905, '13.7%')])"
            ]
          },
          "metadata": {},
          "execution_count": 8
        },
        {
          "output_type": "display_data",
          "data": {
            "text/plain": [
              "<Figure size 432x288 with 1 Axes>"
            ],
            "image/png": "[encoded data removed]"
          },
          "metadata": {}
        }
      ]
    },
    {
      "cell_type": "code",
      "execution_count": null,
      "metadata": {
        "colab": {
          "base_uri": "https://localhost:8080/",
          "height": 296
        },
        "id": "bd8fe7c0",
        "outputId": "bb2e8840-1574-44de-d738-298984dc957e"
      },
      "outputs": [
        {
          "data": {
            "text/plain": [
              "<matplotlib.axes._subplots.AxesSubplot at 0x7fe13d96fbd0>"
            ]
          },
          "execution_count": 13,
          "metadata": {},
          "output_type": "execute_result"
        },
        {
          "data": {
            "image/png": "[encoded data removed]",
            "text/plain": [
              "<Figure size 432x288 with 1 Axes>"
            ]
          },
          "metadata": {},
          "output_type": "display_data"
        }
      ],
      "source": [
        "# Making prediction using Logistic Regression \n",
        "\n",
        "sns.histplot(df['Age'], bins= 20)"
      ],
      "id": "bd8fe7c0"
    },
    {
      "cell_type": "code",
      "execution_count": null,
      "metadata": {
        "colab": {
          "base_uri": "https://localhost:8080/",
          "height": 242
        },
        "id": "d0288bea",
        "outputId": "e84c9614-8d91-49c8-bbd5-ff54462f7eeb"
      },
      "outputs": [
        {
          "data": {
            "text/plain": [
              "<matplotlib.legend.Legend at 0x7fe134b91210>"
            ]
          },
          "execution_count": 62,
          "metadata": {},
          "output_type": "execute_result"
        },
        {
          "data": {
            "image/png": "[encoded data removed]",
            "text/plain": [
              "<Figure size 864x216 with 1 Axes>"
            ]
          },
          "metadata": {},
          "output_type": "display_data"
        }
      ],
      "source": [
        "fig = sns.FacetGrid(df, hue=\"y\",aspect=4, palette='mako')\n",
        "fig.map(sns.kdeplot,'Age',shade= True)\n",
        "fig.set(xlim=(20,80))\n",
        "plt.legend(labels=['Negative' , 'Positive'])\n"
      ],
      "id": "d0288bea"
    },
    {
      "cell_type": "code",
      "execution_count": null,
      "metadata": {
        "colab": {
          "base_uri": "https://localhost:8080/",
          "height": 296
        },
        "id": "7383595e",
        "outputId": "9ddef5c4-574f-4018-f160-6ac157490ba1"
      },
      "outputs": [
        {
          "data": {
            "text/plain": [
              "<matplotlib.axes._subplots.AxesSubplot at 0x7fe13a8630d0>"
            ]
          },
          "execution_count": 21,
          "metadata": {},
          "output_type": "execute_result"
        },
        {
          "data": {
            "image/png": "[encoded data removed]",
            "text/plain": [
              "<Figure size 432x288 with 1 Axes>"
            ]
          },
          "metadata": {},
          "output_type": "display_data"
        }
      ],
      "source": [
        "# Accuracy Score \n",
        "\n",
        "sns.histplot(df['Hematocrit'], bins= 30)"
      ],
      "id": "7383595e"
    },
    {
      "cell_type": "code",
      "execution_count": null,
      "metadata": {
        "colab": {
          "base_uri": "https://localhost:8080/",
          "height": 296
        },
        "id": "tevi2BZ93Qu7",
        "outputId": "d30b65d0-7df8-4296-b7f8-b386c6cb2d93"
      },
      "outputs": [
        {
          "data": {
            "text/plain": [
              "<matplotlib.axes._subplots.AxesSubplot at 0x7fe13da69850>"
            ]
          },
          "execution_count": 23,
          "metadata": {},
          "output_type": "execute_result"
        },
        {
          "data": {
            "image/png": "[encoded data removed]",
            "text/plain": [
              "<Figure size 432x288 with 1 Axes>"
            ]
          },
          "metadata": {},
          "output_type": "display_data"
        }
      ],
      "source": [
        "sns.histplot(df['Hemoglobin'], bins= 10)\n"
      ],
      "id": "tevi2BZ93Qu7"
    },
    {
      "cell_type": "code",
      "execution_count": null,
      "metadata": {
        "id": "oRf11aNh4FuN",
        "colab": {
          "base_uri": "https://localhost:8080/",
          "height": 296
        },
        "outputId": "15e6cbcf-0dda-451f-f741-d54bce08d88c"
      },
      "outputs": [
        {
          "output_type": "execute_result",
          "data": {
            "text/plain": [
              "<matplotlib.axes._subplots.AxesSubplot at 0x7f3dc36c6090>"
            ]
          },
          "metadata": {},
          "execution_count": 19
        },
        {
          "output_type": "display_data",
          "data": {
            "text/plain": [
              "<Figure size 432x288 with 1 Axes>"
            ],
            "image/png": "[encoded data removed]"
          },
          "metadata": {
            "needs_background": "light"
          }
        }
      ],
      "source": [
        "sns.histplot(df['MCV'], bins= 20)\n"
      ],
      "id": "oRf11aNh4FuN"
    },
    {
      "cell_type": "code",
      "execution_count": null,
      "metadata": {
        "id": "tvPE-5_9zjx6",
        "colab": {
          "base_uri": "https://localhost:8080/",
          "height": 296
        },
        "outputId": "a41b9510-e687-4101-80dc-9c2ad64e930c"
      },
      "outputs": [
        {
          "output_type": "execute_result",
          "data": {
            "text/plain": [
              "<matplotlib.axes._subplots.AxesSubplot at 0x7f3dc3457d50>"
            ]
          },
          "metadata": {},
          "execution_count": 24
        },
        {
          "output_type": "display_data",
          "data": {
            "text/plain": [
              "<Figure size 432x288 with 1 Axes>"
            ],
            "image/png": "[encoded data removed]"
          },
          "metadata": {
            "needs_background": "light"
          }
        }
      ],
      "source": [
        "sns.histplot(df['MPV'], bins= 10)"
      ],
      "id": "tvPE-5_9zjx6"
    },
    {
      "cell_type": "code",
      "source": [
        "sns.histplot(df['Leukocytes'], bins= 20)"
      ],
      "metadata": {
        "colab": {
          "base_uri": "https://localhost:8080/",
          "height": 296
        },
        "id": "biHDFuIZ1wYg",
        "outputId": "126630fe-4703-48e0-b373-029eadfcc2f0"
      },
      "id": "biHDFuIZ1wYg",
      "execution_count": null,
      "outputs": [
        {
          "output_type": "execute_result",
          "data": {
            "text/plain": [
              "<matplotlib.axes._subplots.AxesSubplot at 0x7f3dc358d910>"
            ]
          },
          "metadata": {},
          "execution_count": 21
        },
        {
          "output_type": "display_data",
          "data": {
            "text/plain": [
              "<Figure size 432x288 with 1 Axes>"
            ],
            "image/png": "[encoded data removed]"
          },
          "metadata": {
            "needs_background": "light"
          }
        }
      ]
    },
    {
      "cell_type": "code",
      "source": [
        "sns.histplot(df['Platelets'], bins= 10)"
      ],
      "metadata": {
        "colab": {
          "base_uri": "https://localhost:8080/",
          "height": 296
        },
        "id": "yHC5578N19Ms",
        "outputId": "c9c05de3-721b-49c4-d55f-a435ae2e84b8"
      },
      "id": "yHC5578N19Ms",
      "execution_count": null,
      "outputs": [
        {
          "output_type": "execute_result",
          "data": {
            "text/plain": [
              "<matplotlib.axes._subplots.AxesSubplot at 0x7f3dc35ed210>"
            ]
          },
          "metadata": {},
          "execution_count": 22
        },
        {
          "output_type": "display_data",
          "data": {
            "text/plain": [
              "<Figure size 432x288 with 1 Axes>"
            ],
            "image/png": "[encoded data removed]"
          },
          "metadata": {
            "needs_background": "light"
          }
        }
      ]
    },
    {
      "cell_type": "code",
      "source": [
        "sns.histplot(df['MCV'], bins= 10)"
      ],
      "metadata": {
        "colab": {
          "base_uri": "https://localhost:8080/",
          "height": 296
        },
        "id": "6jOCTL4-1-Pt",
        "outputId": "556d6ffe-980a-49ad-c7e3-c8736d21a7e6"
      },
      "id": "6jOCTL4-1-Pt",
      "execution_count": null,
      "outputs": [
        {
          "output_type": "execute_result",
          "data": {
            "text/plain": [
              "<matplotlib.axes._subplots.AxesSubplot at 0x7f3dc3720690>"
            ]
          },
          "metadata": {},
          "execution_count": 25
        },
        {
          "output_type": "display_data",
          "data": {
            "text/plain": [
              "<Figure size 432x288 with 1 Axes>"
            ],
            "image/png": "[encoded data removed]"
          },
          "metadata": {
            "needs_background": "light"
          }
        }
      ]
    },
    {
      "cell_type": "code",
      "source": [
        "sns.histplot(df['MCHC'], bins= 10)"
      ],
      "metadata": {
        "colab": {
          "base_uri": "https://localhost:8080/",
          "height": 296
        },
        "id": "jBGNGpMG1_BR",
        "outputId": "1a2355e8-ab76-4e02-dd96-6a9bd513cde5"
      },
      "id": "jBGNGpMG1_BR",
      "execution_count": null,
      "outputs": [
        {
          "output_type": "execute_result",
          "data": {
            "text/plain": [
              "<matplotlib.axes._subplots.AxesSubplot at 0x7f3dc36cd490>"
            ]
          },
          "metadata": {},
          "execution_count": 26
        },
        {
          "output_type": "display_data",
          "data": {
            "text/plain": [
              "<Figure size 432x288 with 1 Axes>"
            ],
            "image/png": "[encoded data removed]"
          },
          "metadata": {
            "needs_background": "light"
          }
        }
      ]
    },
    {
      "cell_type": "code",
      "source": [
        "sns.histplot(df['MCH'], bins= 20)"
      ],
      "metadata": {
        "colab": {
          "base_uri": "https://localhost:8080/",
          "height": 296
        },
        "id": "UoDG9piy29Lt",
        "outputId": "5246c9e2-9342-4dd3-8c7e-07c9477bd1ee"
      },
      "id": "UoDG9piy29Lt",
      "execution_count": null,
      "outputs": [
        {
          "output_type": "execute_result",
          "data": {
            "text/plain": [
              "<matplotlib.axes._subplots.AxesSubplot at 0x7f3dc31beb50>"
            ]
          },
          "metadata": {},
          "execution_count": 29
        },
        {
          "output_type": "display_data",
          "data": {
            "text/plain": [
              "<Figure size 432x288 with 1 Axes>"
            ],
            "image/png": "[encoded data removed]"
          },
          "metadata": {
            "needs_background": "light"
          }
        }
      ]
    },
    {
      "cell_type": "code",
      "source": [
        "sns.histplot(df['RDW'], bins= 10)"
      ],
      "metadata": {
        "colab": {
          "base_uri": "https://localhost:8080/",
          "height": 296
        },
        "id": "1MCkCfnh29ge",
        "outputId": "37fba0a7-9dd8-4297-f77b-f72013bb109e"
      },
      "id": "1MCkCfnh29ge",
      "execution_count": null,
      "outputs": [
        {
          "output_type": "execute_result",
          "data": {
            "text/plain": [
              "<matplotlib.axes._subplots.AxesSubplot at 0x7f3dc321d0d0>"
            ]
          },
          "metadata": {},
          "execution_count": 28
        },
        {
          "output_type": "display_data",
          "data": {
            "text/plain": [
              "<Figure size 432x288 with 1 Axes>"
            ],
            "image/png": "[encoded data removed]"
          },
          "metadata": {
            "needs_background": "light"
          }
        }
      ]
    },
    {
      "cell_type": "code",
      "source": [
        "sns.histplot(df['Monocytes'], bins= 10)"
      ],
      "metadata": {
        "colab": {
          "base_uri": "https://localhost:8080/",
          "height": 296
        },
        "id": "4nptjTW63E58",
        "outputId": "5d77b642-dfb4-48e9-ed6b-ff0b697b57c0"
      },
      "id": "4nptjTW63E58",
      "execution_count": null,
      "outputs": [
        {
          "output_type": "execute_result",
          "data": {
            "text/plain": [
              "<matplotlib.axes._subplots.AxesSubplot at 0x7f3dc3022b10>"
            ]
          },
          "metadata": {},
          "execution_count": 30
        },
        {
          "output_type": "display_data",
          "data": {
            "text/plain": [
              "<Figure size 432x288 with 1 Axes>"
            ],
            "image/png": "[encoded data removed]"
          },
          "metadata": {
            "needs_background": "light"
          }
        }
      ]
    },
    {
      "cell_type": "code",
      "source": [
        "sns.histplot(df['Monocytes%'], bins= 10)"
      ],
      "metadata": {
        "colab": {
          "base_uri": "https://localhost:8080/",
          "height": 296
        },
        "id": "81a_z7PE3MgT",
        "outputId": "3d9c7434-c309-4483-e8a6-0f5f3e2374df"
      },
      "id": "81a_z7PE3MgT",
      "execution_count": null,
      "outputs": [
        {
          "output_type": "execute_result",
          "data": {
            "text/plain": [
              "<matplotlib.axes._subplots.AxesSubplot at 0x7f3dc2f96790>"
            ]
          },
          "metadata": {},
          "execution_count": 31
        },
        {
          "output_type": "display_data",
          "data": {
            "text/plain": [
              "<Figure size 432x288 with 1 Axes>"
            ],
            "image/png": "[encoded data removed]"
          },
          "metadata": {
            "needs_background": "light"
          }
        }
      ]
    },
    {
      "cell_type": "code",
      "source": [
        "sns.histplot(df['Lymphocytes'], bins= 50)"
      ],
      "metadata": {
        "colab": {
          "base_uri": "https://localhost:8080/",
          "height": 296
        },
        "id": "FJq6l83_3M-A",
        "outputId": "e1ad0e0b-764b-4c4e-a132-98b402e7f8dd"
      },
      "id": "FJq6l83_3M-A",
      "execution_count": null,
      "outputs": [
        {
          "output_type": "execute_result",
          "data": {
            "text/plain": [
              "<matplotlib.axes._subplots.AxesSubplot at 0x7f3dc2b84b90>"
            ]
          },
          "metadata": {},
          "execution_count": 39
        },
        {
          "output_type": "display_data",
          "data": {
            "text/plain": [
              "<Figure size 432x288 with 1 Axes>"
            ],
            "image/png": "[encoded data removed]"
          },
          "metadata": {
            "needs_background": "light"
          }
        }
      ]
    },
    {
      "cell_type": "code",
      "source": [
        "sns.histplot(df['Lymphocytes%'], bins= 20)"
      ],
      "metadata": {
        "colab": {
          "base_uri": "https://localhost:8080/",
          "height": 296
        },
        "id": "yGFcxYLu3YYh",
        "outputId": "3d48c709-a651-443d-dbda-5bdb15664914"
      },
      "id": "yGFcxYLu3YYh",
      "execution_count": null,
      "outputs": [
        {
          "output_type": "execute_result",
          "data": {
            "text/plain": [
              "<matplotlib.axes._subplots.AxesSubplot at 0x7f3dc2b7c890>"
            ]
          },
          "metadata": {},
          "execution_count": 40
        },
        {
          "output_type": "display_data",
          "data": {
            "text/plain": [
              "<Figure size 432x288 with 1 Axes>"
            ],
            "image/png": "[encoded data removed]"
          },
          "metadata": {
            "needs_background": "light"
          }
        }
      ]
    },
    {
      "cell_type": "code",
      "source": [
        "sns.histplot(df['Eosinophils'], bins= 30)"
      ],
      "metadata": {
        "colab": {
          "base_uri": "https://localhost:8080/",
          "height": 296
        },
        "id": "Exu2A7Wc3Y2-",
        "outputId": "fb662984-a14f-4012-c50c-a20e7f0c757b"
      },
      "id": "Exu2A7Wc3Y2-",
      "execution_count": null,
      "outputs": [
        {
          "output_type": "execute_result",
          "data": {
            "text/plain": [
              "<matplotlib.axes._subplots.AxesSubplot at 0x7f3dc2f83e10>"
            ]
          },
          "metadata": {},
          "execution_count": 41
        },
        {
          "output_type": "display_data",
          "data": {
            "text/plain": [
              "<Figure size 432x288 with 1 Axes>"
            ],
            "image/png": "[encoded data removed]"
          },
          "metadata": {
            "needs_background": "light"
          }
        }
      ]
    },
    {
      "cell_type": "code",
      "source": [
        "sns.histplot(df['Eosinophils%'], bins= 30)"
      ],
      "metadata": {
        "colab": {
          "base_uri": "https://localhost:8080/",
          "height": 296
        },
        "id": "D5RS52oU3ZEr",
        "outputId": "a86b70d5-4b57-45ae-aab6-e337cd650607"
      },
      "id": "D5RS52oU3ZEr",
      "execution_count": null,
      "outputs": [
        {
          "output_type": "execute_result",
          "data": {
            "text/plain": [
              "<matplotlib.axes._subplots.AxesSubplot at 0x7f3dc320cd90>"
            ]
          },
          "metadata": {},
          "execution_count": 42
        },
        {
          "output_type": "display_data",
          "data": {
            "text/plain": [
              "<Figure size 432x288 with 1 Axes>"
            ],
            "image/png": "[encoded data removed]"
          },
          "metadata": {
            "needs_background": "light"
          }
        }
      ]
    },
    {
      "cell_type": "code",
      "source": [
        "sns.histplot(df['Basophils'], bins= 20)"
      ],
      "metadata": {
        "colab": {
          "base_uri": "https://localhost:8080/",
          "height": 296
        },
        "id": "Pqcdxn453ZPd",
        "outputId": "fa733962-6197-4b8b-e028-e34d08dad68c"
      },
      "id": "Pqcdxn453ZPd",
      "execution_count": null,
      "outputs": [
        {
          "output_type": "execute_result",
          "data": {
            "text/plain": [
              "<matplotlib.axes._subplots.AxesSubplot at 0x7f3dc2720710>"
            ]
          },
          "metadata": {},
          "execution_count": 47
        },
        {
          "output_type": "display_data",
          "data": {
            "text/plain": [
              "<Figure size 432x288 with 1 Axes>"
            ],
            "image/png": "[encoded data removed]"
          },
          "metadata": {
            "needs_background": "light"
          }
        }
      ]
    },
    {
      "cell_type": "code",
      "source": [
        "sns.histplot(df['Basophils%'], bins= 20)"
      ],
      "metadata": {
        "colab": {
          "base_uri": "https://localhost:8080/",
          "height": 296
        },
        "id": "gLZK32Oa3lO8",
        "outputId": "dd5554d8-b8ad-462e-ad26-458a2db97948"
      },
      "id": "gLZK32Oa3lO8",
      "execution_count": null,
      "outputs": [
        {
          "output_type": "execute_result",
          "data": {
            "text/plain": [
              "<matplotlib.axes._subplots.AxesSubplot at 0x7f3dc25f74d0>"
            ]
          },
          "metadata": {},
          "execution_count": 49
        },
        {
          "output_type": "display_data",
          "data": {
            "text/plain": [
              "<Figure size 432x288 with 1 Axes>"
            ],
            "image/png": "[encoded data removed]"
          },
          "metadata": {
            "needs_background": "light"
          }
        }
      ]
    },
    {
      "cell_type": "code",
      "source": [
        "sns.histplot(df['Neutrophils'], bins= 10)"
      ],
      "metadata": {
        "colab": {
          "base_uri": "https://localhost:8080/",
          "height": 299
        },
        "id": "jWA1EyxZ3nhF",
        "outputId": "f7977cdb-8851-4981-a8cc-ee68c491d2f2"
      },
      "id": "jWA1EyxZ3nhF",
      "execution_count": null,
      "outputs": [
        {
          "output_type": "execute_result",
          "data": {
            "text/plain": [
              "<matplotlib.axes._subplots.AxesSubplot at 0x7f3dc29b4210>"
            ]
          },
          "metadata": {},
          "execution_count": 44
        },
        {
          "output_type": "display_data",
          "data": {
            "text/plain": [
              "<Figure size 432x288 with 1 Axes>"
            ],
            "image/png": "[encoded data removed]"
          },
          "metadata": {
            "needs_background": "light"
          }
        }
      ]
    },
    {
      "cell_type": "code",
      "source": [
        "sns.histplot(df['Neutrophils%'], bins= 10)"
      ],
      "metadata": {
        "colab": {
          "base_uri": "https://localhost:8080/",
          "height": 296
        },
        "id": "j2ODuQlF3ot1",
        "outputId": "98c7ccb9-4774-4a5f-bd51-479489b6162f"
      },
      "id": "j2ODuQlF3ot1",
      "execution_count": 50,
      "outputs": [
        {
          "output_type": "execute_result",
          "data": {
            "text/plain": [
              "<matplotlib.axes._subplots.AxesSubplot at 0x7f3dc253d410>"
            ]
          },
          "metadata": {},
          "execution_count": 50
        },
        {
          "output_type": "display_data",
          "data": {
            "text/plain": [
              "<Figure size 432x288 with 1 Axes>"
            ],
            "image/png": "[encoded data removed]"
          },
          "metadata": {
            "needs_background": "light"
          }
        }
      ]
    },
    {
      "cell_type": "code",
      "source": [
        "# stroing the targes in result column \n",
        "results = df['y']\n",
        "df['result'] = results\n",
        "\n",
        "del df['y']\n",
        "df.info()"
      ],
      "metadata": {
        "colab": {
          "base_uri": "https://localhost:8080/"
        },
        "id": "UPaobNXcFNdp",
        "outputId": "0b9fdb49-7e68-44e6-8d39-9772302d65dc"
      },
      "id": "UPaobNXcFNdp",
      "execution_count": 63,
      "outputs": [
        {
          "output_type": "stream",
          "name": "stdout",
          "text": [
            "<class 'pandas.core.frame.DataFrame'>\n",
            "RangeIndex: 14681 entries, 0 to 14680\n",
            "Data columns (total 25 columns):\n",
            " #   Column         Non-Null Count  Dtype  \n",
            "---  ------         --------------  -----  \n",
            " 0   Date           14681 non-null  object \n",
            " 1   ID             14681 non-null  object \n",
            " 2   Age            14681 non-null  float64\n",
            " 3   Sex            14681 non-null  object \n",
            " 4   Hematocrit     14681 non-null  float64\n",
            " 5   Hemoglobin     14681 non-null  float64\n",
            " 6   RedBloodCells  14681 non-null  float64\n",
            " 7   Leukocytes     14681 non-null  float64\n",
            " 8   Platelets      14681 non-null  int64  \n",
            " 9   MPV            14681 non-null  float64\n",
            " 10  MCV            14681 non-null  float64\n",
            " 11  MCHC           14681 non-null  float64\n",
            " 12  MCH            14681 non-null  float64\n",
            " 13  RDW            14681 non-null  float64\n",
            " 14  Monocytes      14681 non-null  int64  \n",
            " 15  Monocytes%     14681 non-null  float64\n",
            " 16  Lymphocytes    14681 non-null  int64  \n",
            " 17  Lymphocytes%   14681 non-null  float64\n",
            " 18  Eosinophils    14681 non-null  int64  \n",
            " 19  Eosinophils%   14681 non-null  float64\n",
            " 20  Basophils      14681 non-null  int64  \n",
            " 21  Basophils%     14681 non-null  float64\n",
            " 22  Neutrophils    14681 non-null  int64  \n",
            " 23  Neutrophils%   14681 non-null  float64\n",
            " 24  result         14681 non-null  int64  \n",
            "dtypes: float64(15), int64(7), object(3)\n",
            "memory usage: 2.8+ MB\n"
          ]
        }
      ]
    },
    {
      "cell_type": "code",
      "source": [
        "#dropping some features from the dataset and assigning it to a new variable\n",
        "new_df = df.drop(['ID', 'Sex','Date'], axis = 1)\n",
        "\n",
        "new_df.info()"
      ],
      "metadata": {
        "colab": {
          "base_uri": "https://localhost:8080/"
        },
        "id": "yIAm7hGJIv41",
        "outputId": "93d97852-2efd-4ad2-c277-65786d0c6415"
      },
      "id": "yIAm7hGJIv41",
      "execution_count": 65,
      "outputs": [
        {
          "output_type": "stream",
          "name": "stdout",
          "text": [
            "<class 'pandas.core.frame.DataFrame'>\n",
            "RangeIndex: 14681 entries, 0 to 14680\n",
            "Data columns (total 22 columns):\n",
            " #   Column         Non-Null Count  Dtype  \n",
            "---  ------         --------------  -----  \n",
            " 0   Age            14681 non-null  float64\n",
            " 1   Hematocrit     14681 non-null  float64\n",
            " 2   Hemoglobin     14681 non-null  float64\n",
            " 3   RedBloodCells  14681 non-null  float64\n",
            " 4   Leukocytes     14681 non-null  float64\n",
            " 5   Platelets      14681 non-null  int64  \n",
            " 6   MPV            14681 non-null  float64\n",
            " 7   MCV            14681 non-null  float64\n",
            " 8   MCHC           14681 non-null  float64\n",
            " 9   MCH            14681 non-null  float64\n",
            " 10  RDW            14681 non-null  float64\n",
            " 11  Monocytes      14681 non-null  int64  \n",
            " 12  Monocytes%     14681 non-null  float64\n",
            " 13  Lymphocytes    14681 non-null  int64  \n",
            " 14  Lymphocytes%   14681 non-null  float64\n",
            " 15  Eosinophils    14681 non-null  int64  \n",
            " 16  Eosinophils%   14681 non-null  float64\n",
            " 17  Basophils      14681 non-null  int64  \n",
            " 18  Basophils%     14681 non-null  float64\n",
            " 19  Neutrophils    14681 non-null  int64  \n",
            " 20  Neutrophils%   14681 non-null  float64\n",
            " 21  result         14681 non-null  int64  \n",
            "dtypes: float64(15), int64(7)\n",
            "memory usage: 2.5 MB\n"
          ]
        }
      ]
    },
    {
      "cell_type": "code",
      "source": [
        "print(new_df.columns[:-1])"
      ],
      "metadata": {
        "colab": {
          "base_uri": "https://localhost:8080/"
        },
        "id": "PONTdRdqJ8Gy",
        "outputId": "9ef762ae-ca59-4e44-9b6d-5eaa94b4e019"
      },
      "id": "PONTdRdqJ8Gy",
      "execution_count": 68,
      "outputs": [
        {
          "output_type": "stream",
          "name": "stdout",
          "text": [
            "Index(['Age', 'Hematocrit', 'Hemoglobin', 'RedBloodCells', 'Leukocytes',\n",
            "       'Platelets', 'MPV', 'MCV', 'MCHC', 'MCH', 'RDW', 'Monocytes',\n",
            "       'Monocytes%', 'Lymphocytes', 'Lymphocytes%', 'Eosinophils',\n",
            "       'Eosinophils%', 'Basophils', 'Basophils%', 'Neutrophils',\n",
            "       'Neutrophils%'],\n",
            "      dtype='object')\n"
          ]
        }
      ]
    },
    {
      "cell_type": "code",
      "source": [
        "# Spliting the dataset into train set and test set\n",
        "features= new_df.columns[:-1]\n",
        "\n",
        "\n",
        "X = df[features]\n",
        "y = df['result']\n",
        "\n",
        "\n",
        "X_train, X_test, y_train, y_test = train_test_split(X,y)"
      ],
      "metadata": {
        "id": "3mMaQ334Hy3Z"
      },
      "id": "3mMaQ334Hy3Z",
      "execution_count": 71,
      "outputs": []
    },
    {
      "cell_type": "code",
      "source": [
        "# Making prediction using Logistic Regression \n",
        "\n",
        "lr = LogisticRegression(max_iter=10000)\n",
        "\n",
        "lr.fit(X_train,y_train)"
      ],
      "metadata": {
        "colab": {
          "base_uri": "https://localhost:8080/"
        },
        "id": "_xKWrgoYIW6Y",
        "outputId": "b05e219c-39f2-43e3-8f2f-b3bda97a63c5"
      },
      "id": "_xKWrgoYIW6Y",
      "execution_count": 72,
      "outputs": [
        {
          "output_type": "execute_result",
          "data": {
            "text/plain": [
              "LogisticRegression(max_iter=10000)"
            ]
          },
          "metadata": {},
          "execution_count": 72
        }
      ]
    },
    {
      "cell_type": "code",
      "source": [
        "predictions = lr.predict(X_test)\n",
        "\n",
        "accuracy=accuracy_score(y_test,predictions)\n",
        "accuracy"
      ],
      "metadata": {
        "colab": {
          "base_uri": "https://localhost:8080/"
        },
        "id": "bbH5IjVcIe-b",
        "outputId": "530570c9-a0a6-433a-c660-773adf79ac29"
      },
      "id": "bbH5IjVcIe-b",
      "execution_count": 73,
      "outputs": [
        {
          "output_type": "execute_result",
          "data": {
            "text/plain": [
              "0.8804140561154998"
            ]
          },
          "metadata": {},
          "execution_count": 73
        }
      ]
    },
    {
      "cell_type": "code",
      "source": [
        "#making predictions and checking for accuracy of DecisionTreeAlgorithm\n",
        "dtc = DecisionTreeClassifier()\n",
        "dtc.fit(X_train,y_train)"
      ],
      "metadata": {
        "colab": {
          "base_uri": "https://localhost:8080/"
        },
        "id": "9vFhHGjjK8T-",
        "outputId": "56e6a13b-174b-4f76-aea1-7f084658b3d1"
      },
      "id": "9vFhHGjjK8T-",
      "execution_count": 74,
      "outputs": [
        {
          "output_type": "execute_result",
          "data": {
            "text/plain": [
              "DecisionTreeClassifier()"
            ]
          },
          "metadata": {},
          "execution_count": 74
        }
      ]
    },
    {
      "cell_type": "code",
      "source": [
        "predictions = dtc.predict(X_test)\n",
        "\n",
        "\n",
        "accuracy=accuracy_score(y_test,predictions)\n",
        "accuracy"
      ],
      "metadata": {
        "colab": {
          "base_uri": "https://localhost:8080/"
        },
        "id": "cRr0CKoGLOJV",
        "outputId": "e6487d11-e0e8-4440-c379-e3ac31d7bb0d"
      },
      "id": "cRr0CKoGLOJV",
      "execution_count": 75,
      "outputs": [
        {
          "output_type": "execute_result",
          "data": {
            "text/plain": [
              "0.8213020975211114"
            ]
          },
          "metadata": {},
          "execution_count": 75
        }
      ]
    },
    {
      "cell_type": "code",
      "source": [
        "# Implementing K-Nearest Neighbors Algorithm\n",
        "knn = KNeighborsClassifier(n_neighbors=5)\n",
        "knn.fit(X_train, y_train)"
      ],
      "metadata": {
        "colab": {
          "base_uri": "https://localhost:8080/"
        },
        "id": "P2wx_xWqLn7y",
        "outputId": "2788ad28-26cf-494d-c464-62db61870397"
      },
      "id": "P2wx_xWqLn7y",
      "execution_count": 77,
      "outputs": [
        {
          "output_type": "execute_result",
          "data": {
            "text/plain": [
              "KNeighborsClassifier()"
            ]
          },
          "metadata": {},
          "execution_count": 77
        }
      ]
    },
    {
      "cell_type": "code",
      "source": [
        "predictions = knn.predict(X_test)\n",
        "#checking accuracy \n",
        "accuracy=accuracy_score(y_test,predictions)\n",
        "\n",
        "accuracy"
      ],
      "metadata": {
        "colab": {
          "base_uri": "https://localhost:8080/"
        },
        "id": "-h2rpYJKLzRl",
        "outputId": "2c2c03bb-e6ab-4ce6-b61a-3b4abf083bc8"
      },
      "id": "-h2rpYJKLzRl",
      "execution_count": 78,
      "outputs": [
        {
          "output_type": "execute_result",
          "data": {
            "text/plain": [
              "0.8629801144102425"
            ]
          },
          "metadata": {},
          "execution_count": 78
        }
      ]
    }
  ],
  "metadata": {
    "colab": {
      "collapsed_sections": [],
      "name": "covid_prediction.ipynb",
      "provenance": []
    },
    "kernelspec": {
      "display_name": "Python 3 (ipykernel)",
      "language": "python",
      "name": "python3"
    },
    "language_info": {
      "codemirror_mode": {
        "name": "ipython",
        "version": 3
      },
      "file_extension": ".py",
      "mimetype": "text/x-python",
      "name": "python",
      "nbconvert_exporter": "python",
      "pygments_lexer": "ipython3",
      "version": "3.9.7"
    }
  },
  "nbformat": 4,
  "nbformat_minor": 5
}